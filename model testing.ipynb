{
 "cells": [
  {
   "cell_type": "markdown",
   "id": "68226383-67d1-4e09-b346-d53441323a94",
   "metadata": {},
   "source": [
    "on the basis of the results from data analysis, test models here for game"
   ]
  }
 ],
 "metadata": {
  "kernelspec": {
   "display_name": "Python 3 (ipykernel)",
   "language": "python",
   "name": "python3"
  },
  "language_info": {
   "codemirror_mode": {
    "name": "ipython",
    "version": 3
   },
   "file_extension": ".py",
   "mimetype": "text/x-python",
   "name": "python",
   "nbconvert_exporter": "python",
   "pygments_lexer": "ipython3",
   "version": "3.12.2"
  }
 },
 "nbformat": 4,
 "nbformat_minor": 5
}
