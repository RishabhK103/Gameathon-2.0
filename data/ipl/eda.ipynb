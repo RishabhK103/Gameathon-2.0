{
 "cells": [
  {
   "cell_type": "code",
   "execution_count": 5,
   "metadata": {},
   "outputs": [
    {
     "name": "stdout",
     "output_type": "stream",
     "text": [
      "               Player  Batting Form  Bowling Form  Fielding Form  Credits  \\\n",
      "129   Nicholas Pooran     97.063045     36.484104      78.668008      8.5   \n",
      "192  Suryakumar Yadav     90.530687     36.484104      45.877297      9.0   \n",
      "149     Rajat Patidar     89.531339     36.484104      41.982788      8.0   \n",
      "200       Travis Head     89.134851     27.380058      31.007355      9.0   \n",
      "186      Shreyas Iyer     89.061961     35.209538      51.714153      8.5   \n",
      "113    Mitchell Marsh     88.834742     42.796243      34.345505      8.0   \n",
      "61   Heinrich Klaasen     88.175589     36.484104      84.449562      9.0   \n",
      "170     Sai Sudharsan     86.293816     36.484104      59.795369      8.0   \n",
      "63       Ishan Kishan     85.732406     37.769552      64.591321      8.0   \n",
      "188      Shubman Gill     85.048098     36.484104      55.001725      9.0   \n",
      "214       Virat Kohli     84.994322     36.484104      57.581205      9.0   \n",
      "174      Sanju Samson     84.698904     36.484104      56.083944      9.0   \n",
      "73        Jos Buttler     83.009404     36.484104      60.346713      9.0   \n",
      "160       Rinku Singh     82.836301     36.484104      63.734848      7.5   \n",
      "198       Tilak Varma     82.302454     33.692197      68.343057      8.0   \n",
      "\n",
      "    Player Type Bowler Type  Team  \n",
      "129          WK           -   LSG  \n",
      "192         BAT           -    MI  \n",
      "149         BAT           -   RCB  \n",
      "200         BAT           -   SRH  \n",
      "186         BAT           -  PBKS  \n",
      "113         BAT           -   LSG  \n",
      "61           WK           -   SRH  \n",
      "170         BAT           -    GT  \n",
      "63           WK           -   SRH  \n",
      "188         BAT           -    GT  \n",
      "214         BAT           -   RCB  \n",
      "174          WK           -    RR  \n",
      "73           WK           -    GT  \n",
      "160         BAT           -   KKR  \n",
      "198         BAT           -    MI  \n"
     ]
    }
   ],
   "source": [
    "import pandas as pd\n",
    "df=pd.read_csv(\"merged_output_trial.csv\")\n",
    "df2=df.sort_values(\"Batting Form\",ascending=False)\n",
    "# df3=df.sort_values(\"Bowling Form\",ascending=False)\n",
    "print(df2.head(15))\n",
    "# print(df3.head(15))\n"
   ]
  },
  {
   "cell_type": "code",
   "execution_count": 6,
   "metadata": {},
   "outputs": [
    {
     "name": "stdout",
     "output_type": "stream",
     "text": [
      "                         Player  Batting Form  Bowling Form  Fielding Form  \\\n",
      "209          Varun Chakravarthy     23.601447     82.910663      54.073203   \n",
      "118              Mohammed Siraj     29.043644     81.398208      55.942326   \n",
      "87                Kuldeep Yadav     46.020264     81.344136      52.353550   \n",
      "109         Matheesha Pathirana     10.633239     78.582801      54.884070   \n",
      "74               Josh Hazlewood     24.926592     78.438131      33.133897   \n",
      "217           Wanindu Hasaranga     42.517999     77.261410      48.207769   \n",
      "132                  Noor Ahmad     19.332661     76.955504      41.428695   \n",
      "84                Khaleel Ahmed     10.633239     76.946003      35.258174   \n",
      "191                Sunil Narine     82.964682     76.776950      60.898973   \n",
      "23               Arshdeep Singh     33.208427     76.163683      53.263955   \n",
      "116                   Moeen Ali     64.180118     76.031867      63.023251   \n",
      "227            Yuzvendra Chahal     15.852892     75.546717      46.892740   \n",
      "158  Ravisrinivasan Sai Kishore     48.364550     74.953488      48.962557   \n",
      "157             Ravindra Jadeja     73.878462     74.759846      71.172785   \n",
      "115              Mitchell Starc     24.959387     73.954777      46.433655   \n",
      "\n",
      "     Credits Player Type Bowler Type  Team  \n",
      "209      9.0        BOWL        SPIN   KKR  \n",
      "118      8.0        BOWL        PACE    GT  \n",
      "87       8.5        BOWL        SPIN    DC  \n",
      "109      8.5        BOWL        PACE   CHE  \n",
      "74       8.5        BOWL        PACE   RCB  \n",
      "217      8.5         ALL        SPIN    RR  \n",
      "132      7.5        BOWL        SPIN   CHE  \n",
      "84       7.5        BOWL        PACE   CHE  \n",
      "191      9.0         ALL        SPIN   KKR  \n",
      "23       8.5        BOWL        PACE  PBKS  \n",
      "116      7.0         ALL        SPIN   KKR  \n",
      "227      8.5        BOWL        SPIN  PBKS  \n",
      "158      7.0        BOWL        SPIN    GT  \n",
      "157      8.5         ALL        SPIN   CHE  \n",
      "115      8.5        BOWL        PACE    DC  \n"
     ]
    }
   ],
   "source": [
    "import pandas as pd\n",
    "df=pd.read_csv(\"merged_output.csv\")\n",
    "# df2=df.sort_values(\"Batting Form\",ascending=False)\n",
    "df3=df.sort_values(\"Bowling Form\",ascending=False)\n",
    "# print(df2.head(15))\n",
    "print(df3.head(15))"
   ]
  },
  {
   "cell_type": "code",
   "execution_count": null,
   "metadata": {},
   "outputs": [],
   "source": []
  }
 ],
 "metadata": {
  "kernelspec": {
   "display_name": "3.11.6",
   "language": "python",
   "name": "python3"
  },
  "language_info": {
   "codemirror_mode": {
    "name": "ipython",
    "version": 3
   },
   "file_extension": ".py",
   "mimetype": "text/x-python",
   "name": "python",
   "nbconvert_exporter": "python",
   "pygments_lexer": "ipython3",
   "version": "3.11.6"
  }
 },
 "nbformat": 4,
 "nbformat_minor": 2
}
